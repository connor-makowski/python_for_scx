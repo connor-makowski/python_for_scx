{
 "cells": [
  {
   "cell_type": "code",
   "execution_count": 1,
   "metadata": {
    "execution": {
     "iopub.execute_input": "2022-11-08T16:09:46.749265Z",
     "iopub.status.busy": "2022-11-08T16:09:46.749017Z",
     "iopub.status.idle": "2022-11-08T16:09:47.413321Z",
     "shell.execute_reply": "2022-11-08T16:09:47.412468Z"
    },
    "executionInfo": {
     "elapsed": 24547,
     "status": "ok",
     "timestamp": 1662572701503,
     "user": {
      "displayName": "connor makowski",
      "userId": "10315975988672690851"
     },
     "user_tz": 240
    },
    "id": "dtAZbhYzc4Tl"
   },
   "outputs": [
    {
     "name": "stdout",
     "output_type": "stream",
     "text": [
      "\r\n",
      "\u001b[1m[\u001b[0m\u001b[34;49mnotice\u001b[0m\u001b[1;39;49m]\u001b[0m\u001b[39;49m A new release of pip available: \u001b[0m\u001b[31;49m22.2.2\u001b[0m\u001b[39;49m -> \u001b[0m\u001b[32;49m22.3.1\u001b[0m\r\n",
      "\u001b[1m[\u001b[0m\u001b[34;49mnotice\u001b[0m\u001b[1;39;49m]\u001b[0m\u001b[39;49m To update, run: \u001b[0m\u001b[32;49mpip install --upgrade pip\u001b[0m\r\n",
      "Note: you may need to restart the kernel to use updated packages.\n"
     ]
    }
   ],
   "source": [
    "pip install scx>=1.0.7"
   ]
  },
  {
   "cell_type": "code",
   "execution_count": 2,
   "metadata": {
    "execution": {
     "iopub.execute_input": "2022-11-08T16:09:47.415884Z",
     "iopub.status.busy": "2022-11-08T16:09:47.415658Z",
     "iopub.status.idle": "2022-11-08T16:09:47.796706Z",
     "shell.execute_reply": "2022-11-08T16:09:47.796132Z"
    },
    "executionInfo": {
     "elapsed": 9,
     "status": "ok",
     "timestamp": 1662572701503,
     "user": {
      "displayName": "connor makowski",
      "userId": "10315975988672690851"
     },
     "user_tz": 240
    },
    "id": "SFdM7adidA5O"
   },
   "outputs": [
    {
     "ename": "AttributeError",
     "evalue": "'staticmethod' object has no attribute '__annotations__'",
     "output_type": "error",
     "traceback": [
      "\u001b[0;31m---------------------------------------------------------------------------\u001b[0m",
      "\u001b[0;31mAttributeError\u001b[0m                            Traceback (most recent call last)",
      "Cell \u001b[0;32mIn [2], line 1\u001b[0m\n\u001b[0;32m----> 1\u001b[0m \u001b[38;5;28;01mfrom\u001b[39;00m \u001b[38;5;21;01mscx\u001b[39;00m\u001b[38;5;21;01m.\u001b[39;00m\u001b[38;5;21;01moptimize\u001b[39;00m \u001b[38;5;28;01mimport\u001b[39;00m Model\n",
      "File \u001b[0;32m~/development/mm/python_for_scx/venv/lib/python3.8/site-packages/scx/optimize.py:7\u001b[0m\n\u001b[1;32m      2\u001b[0m \u001b[38;5;28;01mfrom\u001b[39;00m \u001b[38;5;21;01mpprint\u001b[39;00m \u001b[38;5;28;01mimport\u001b[39;00m pprint\n\u001b[1;32m      3\u001b[0m \u001b[38;5;28;01mfrom\u001b[39;00m \u001b[38;5;21;01m.\u001b[39;00m\u001b[38;5;21;01mutils\u001b[39;00m \u001b[38;5;28;01mimport\u001b[39;00m Error\n\u001b[1;32m      6\u001b[0m \u001b[38;5;129;43m@type_enforced\u001b[39;49m\u001b[38;5;241;43m.\u001b[39;49m\u001b[43mEnforcer\u001b[49m\n\u001b[0;32m----> 7\u001b[0m \u001b[38;5;28;43;01mclass\u001b[39;49;00m\u001b[43m \u001b[49m\u001b[38;5;21;43;01mModelUtils\u001b[39;49;00m\u001b[43m(\u001b[49m\u001b[43mError\u001b[49m\u001b[43m)\u001b[49m\u001b[43m:\u001b[49m\n\u001b[1;32m      8\u001b[0m \u001b[43m    \u001b[49m\u001b[38;5;129;43m@staticmethod\u001b[39;49m\n\u001b[1;32m      9\u001b[0m \u001b[43m    \u001b[49m\u001b[38;5;28;43;01mdef\u001b[39;49;00m\u001b[43m \u001b[49m\u001b[38;5;21;43mvariable\u001b[39;49m\u001b[43m(\u001b[49m\n\u001b[1;32m     10\u001b[0m \u001b[43m        \u001b[49m\u001b[43mname\u001b[49m\u001b[43m:\u001b[49m\u001b[43m \u001b[49m\u001b[38;5;28;43mstr\u001b[39;49m\u001b[43m,\u001b[49m\n\u001b[0;32m   (...)\u001b[0m\n\u001b[1;32m     13\u001b[0m \u001b[43m        \u001b[49m\u001b[43mcat\u001b[49m\u001b[43m:\u001b[49m\u001b[43m \u001b[49m\u001b[43m[\u001b[49m\u001b[38;5;28;43mstr\u001b[39;49m\u001b[43m,\u001b[49m\u001b[43m \u001b[49m\u001b[38;5;28;43;01mNone\u001b[39;49;00m\u001b[43m]\u001b[49m\u001b[43m \u001b[49m\u001b[38;5;241;43m=\u001b[39;49m\u001b[43m \u001b[49m\u001b[38;5;124;43m\"\u001b[39;49m\u001b[38;5;124;43mContinuous\u001b[39;49m\u001b[38;5;124;43m\"\u001b[39;49m\u001b[43m,\u001b[49m\n\u001b[1;32m     14\u001b[0m \u001b[43m    \u001b[49m\u001b[43m)\u001b[49m\u001b[43m:\u001b[49m\n\u001b[1;32m     15\u001b[0m \u001b[43m        \u001b[49m\u001b[38;5;124;43;03m\"\"\"\u001b[39;49;00m\n\u001b[1;32m     16\u001b[0m \u001b[38;5;124;43;03m        Creates a variable object to be used in an optimize.Model object\u001b[39;49;00m\n\u001b[1;32m     17\u001b[0m \n\u001b[0;32m   (...)\u001b[0m\n\u001b[1;32m     38\u001b[0m \u001b[38;5;124;43;03m            - Options: ['Continuous','Binary','Integer']\u001b[39;49;00m\n\u001b[1;32m     39\u001b[0m \u001b[38;5;124;43;03m        \"\"\"\u001b[39;49;00m\n",
      "File \u001b[0;32m~/development/mm/python_for_scx/venv/lib/python3.8/site-packages/type_enforced/enforcer.py:167\u001b[0m, in \u001b[0;36mEnforcer\u001b[0;34m(clsFnMethod)\u001b[0m\n\u001b[1;32m    165\u001b[0m \u001b[38;5;28;01mfor\u001b[39;00m key, value \u001b[38;5;129;01min\u001b[39;00m clsFnMethod\u001b[38;5;241m.\u001b[39m\u001b[38;5;18m__dict__\u001b[39m\u001b[38;5;241m.\u001b[39mitems():\n\u001b[1;32m    166\u001b[0m     \u001b[38;5;28;01mif\u001b[39;00m \u001b[38;5;28mhasattr\u001b[39m(value, \u001b[38;5;124m\"\u001b[39m\u001b[38;5;124m__call__\u001b[39m\u001b[38;5;124m\"\u001b[39m) \u001b[38;5;129;01mor\u001b[39;00m \u001b[38;5;28misinstance\u001b[39m(value, (\u001b[38;5;28mclassmethod\u001b[39m, \u001b[38;5;28mstaticmethod\u001b[39m)):\n\u001b[0;32m--> 167\u001b[0m         \u001b[38;5;28msetattr\u001b[39m(clsFnMethod, key, \u001b[43mEnforcer\u001b[49m\u001b[43m(\u001b[49m\u001b[43mvalue\u001b[49m\u001b[43m)\u001b[49m)\n\u001b[1;32m    168\u001b[0m \u001b[38;5;28;01mreturn\u001b[39;00m clsFnMethod\n",
      "File \u001b[0;32m~/development/mm/python_for_scx/venv/lib/python3.8/site-packages/type_enforced/enforcer.py:156\u001b[0m, in \u001b[0;36mEnforcer\u001b[0;34m(clsFnMethod)\u001b[0m\n\u001b[1;32m    116\u001b[0m \u001b[38;5;124;03m\"\"\"\u001b[39;00m\n\u001b[1;32m    117\u001b[0m \u001b[38;5;124;03mA wrapper to enforce types within a function or method given argument annotations.\u001b[39;00m\n\u001b[1;32m    118\u001b[0m \n\u001b[0;32m   (...)\u001b[0m\n\u001b[1;32m    152\u001b[0m \u001b[38;5;124;03m```\u001b[39;00m\n\u001b[1;32m    153\u001b[0m \u001b[38;5;124;03m\"\"\"\u001b[39;00m\n\u001b[1;32m    154\u001b[0m \u001b[38;5;28;01mif\u001b[39;00m \u001b[38;5;28misinstance\u001b[39m(clsFnMethod, (\u001b[38;5;28mstaticmethod\u001b[39m, \u001b[38;5;28mclassmethod\u001b[39m, types\u001b[38;5;241m.\u001b[39mFunctionType, types\u001b[38;5;241m.\u001b[39mMethodType)):\n\u001b[1;32m    155\u001b[0m     \u001b[38;5;66;03m# Only apply the enforcer if annotations are specified\u001b[39;00m\n\u001b[0;32m--> 156\u001b[0m     \u001b[38;5;28;01mif\u001b[39;00m \u001b[43mclsFnMethod\u001b[49m\u001b[38;5;241;43m.\u001b[39;49m\u001b[38;5;18;43m__annotations__\u001b[39;49m \u001b[38;5;241m==\u001b[39m {}:\n\u001b[1;32m    157\u001b[0m         \u001b[38;5;28;01mreturn\u001b[39;00m clsFnMethod\n\u001b[1;32m    158\u001b[0m     \u001b[38;5;28;01melif\u001b[39;00m \u001b[38;5;28misinstance\u001b[39m(clsFnMethod, \u001b[38;5;28mstaticmethod\u001b[39m):\n",
      "\u001b[0;31mAttributeError\u001b[0m: 'staticmethod' object has no attribute '__annotations__'"
     ]
    }
   ],
   "source": [
    "from scx.optimize import Model"
   ]
  },
  {
   "cell_type": "code",
   "execution_count": 3,
   "metadata": {
    "execution": {
     "iopub.execute_input": "2022-11-08T16:09:47.799377Z",
     "iopub.status.busy": "2022-11-08T16:09:47.799241Z",
     "iopub.status.idle": "2022-11-08T16:09:47.804151Z",
     "shell.execute_reply": "2022-11-08T16:09:47.803691Z"
    },
    "executionInfo": {
     "elapsed": 7,
     "status": "ok",
     "timestamp": 1662572701503,
     "user": {
      "displayName": "connor makowski",
      "userId": "10315975988672690851"
     },
     "user_tz": 240
    },
    "id": "rqwrp08wdCdT"
   },
   "outputs": [],
   "source": [
    "transport = [\n",
    "    {\n",
    "        'origin_name':'A1',\n",
    "        'destination_name':'DC1',\n",
    "        'distance': 190,\n",
    "        'cost_per_mile':0.04,\n",
    "    },\n",
    "    {\n",
    "        'origin_name':'A2',\n",
    "        'destination_name':'DC1',\n",
    "        'distance': 150,\n",
    "        'cost_per_mile':0.04,\n",
    "    },\n",
    "    {\n",
    "        'origin_name':'DC1',\n",
    "        'destination_name':'R1',\n",
    "        'distance': 15,\n",
    "        'cost_per_mile':0.08,\n",
    "    },\n",
    "    {\n",
    "        'origin_name':'DC1',\n",
    "        'destination_name':'R2',\n",
    "        'distance': 59,\n",
    "        'cost_per_mile':0.08,\n",
    "    },\n",
    "    {\n",
    "        'origin_name':'DC1',\n",
    "        'destination_name':'R3',\n",
    "        'distance': 79,\n",
    "        'cost_per_mile':0.08,\n",
    "    },\n",
    "]\n",
    "\n",
    "demand = [\n",
    "    {\n",
    "        'name':'R1', \n",
    "        'demand':2500\n",
    "    },\n",
    "    {\n",
    "        'name':'R2', \n",
    "        'demand':4350\n",
    "    },\n",
    "    {\n",
    "        'name':'R3', \n",
    "        'demand':3296\n",
    "    },\n",
    "]\n",
    "\n",
    "assembly = [\n",
    "    {\n",
    "        'name':'A1',\n",
    "        'limit':13000,\n",
    "    },\n",
    "    {\n",
    "        'name':'A2',\n",
    "        'limit':3500,\n",
    "    },\n",
    "]\n",
    "\n",
    "distribution_center = [\n",
    "    {\n",
    "        'name': 'DC1'\n",
    "    }\n",
    "]"
   ]
  },
  {
   "cell_type": "code",
   "execution_count": 4,
   "metadata": {
    "execution": {
     "iopub.execute_input": "2022-11-08T16:09:47.806751Z",
     "iopub.status.busy": "2022-11-08T16:09:47.806339Z",
     "iopub.status.idle": "2022-11-08T16:09:47.822741Z",
     "shell.execute_reply": "2022-11-08T16:09:47.822214Z"
    },
    "executionInfo": {
     "elapsed": 8,
     "status": "ok",
     "timestamp": 1662572701504,
     "user": {
      "displayName": "connor makowski",
      "userId": "10315975988672690851"
     },
     "user_tz": 240
    },
    "id": "t2p2iCc5eaZH"
   },
   "outputs": [
    {
     "ename": "NameError",
     "evalue": "name 'Model' is not defined",
     "output_type": "error",
     "traceback": [
      "\u001b[0;31m---------------------------------------------------------------------------\u001b[0m",
      "\u001b[0;31mNameError\u001b[0m                                 Traceback (most recent call last)",
      "Cell \u001b[0;32mIn [4], line 3\u001b[0m\n\u001b[1;32m      1\u001b[0m \u001b[38;5;28;01mfor\u001b[39;00m t \u001b[38;5;129;01min\u001b[39;00m transport:\n\u001b[1;32m      2\u001b[0m     \u001b[38;5;66;03m# Create decision variables for each item in transport\u001b[39;00m\n\u001b[0;32m----> 3\u001b[0m     t[\u001b[38;5;124m'\u001b[39m\u001b[38;5;124mamt\u001b[39m\u001b[38;5;124m'\u001b[39m]\u001b[38;5;241m=\u001b[39mModel\u001b[38;5;241m.\u001b[39mvariable(name\u001b[38;5;241m=\u001b[39m\u001b[38;5;124mf\u001b[39m\u001b[38;5;124m\"\u001b[39m\u001b[38;5;132;01m{\u001b[39;00mt[\u001b[38;5;124m'\u001b[39m\u001b[38;5;124morigin_name\u001b[39m\u001b[38;5;124m'\u001b[39m]\u001b[38;5;132;01m}\u001b[39;00m\u001b[38;5;124m__\u001b[39m\u001b[38;5;132;01m{\u001b[39;00mt[\u001b[38;5;124m'\u001b[39m\u001b[38;5;124mdestination_name\u001b[39m\u001b[38;5;124m'\u001b[39m]\u001b[38;5;132;01m}\u001b[39;00m\u001b[38;5;124m__amt\u001b[39m\u001b[38;5;124m\"\u001b[39m, lowBound\u001b[38;5;241m=\u001b[39m\u001b[38;5;241m0\u001b[39m)\n\u001b[1;32m      4\u001b[0m     \u001b[38;5;66;03m# Calculate the variable cost of shipping for each item in tranport\u001b[39;00m\n\u001b[1;32m      5\u001b[0m     t[\u001b[38;5;124m'\u001b[39m\u001b[38;5;124mcost\u001b[39m\u001b[38;5;124m'\u001b[39m]\u001b[38;5;241m=\u001b[39mt[\u001b[38;5;124m'\u001b[39m\u001b[38;5;124mdistance\u001b[39m\u001b[38;5;124m'\u001b[39m]\u001b[38;5;241m*\u001b[39mt[\u001b[38;5;124m'\u001b[39m\u001b[38;5;124mcost_per_mile\u001b[39m\u001b[38;5;124m'\u001b[39m]\n",
      "\u001b[0;31mNameError\u001b[0m: name 'Model' is not defined"
     ]
    }
   ],
   "source": [
    "for t in transport:\n",
    "    # Create decision variables for each item in transport\n",
    "    t['amt']=Model.variable(name=f\"{t['origin_name']}__{t['destination_name']}__amt\", lowBound=0)\n",
    "    # Calculate the variable cost of shipping for each item in tranport\n",
    "    t['cost']=t['distance']*t['cost_per_mile']"
   ]
  },
  {
   "cell_type": "code",
   "execution_count": 5,
   "metadata": {
    "execution": {
     "iopub.execute_input": "2022-11-08T16:09:47.824747Z",
     "iopub.status.busy": "2022-11-08T16:09:47.824611Z",
     "iopub.status.idle": "2022-11-08T16:09:47.842270Z",
     "shell.execute_reply": "2022-11-08T16:09:47.841815Z"
    },
    "executionInfo": {
     "elapsed": 7,
     "status": "ok",
     "timestamp": 1662572701504,
     "user": {
      "displayName": "connor makowski",
      "userId": "10315975988672690851"
     },
     "user_tz": 240
    },
    "id": "UyYaJ7YcetBD"
   },
   "outputs": [
    {
     "ename": "NameError",
     "evalue": "name 'Model' is not defined",
     "output_type": "error",
     "traceback": [
      "\u001b[0;31m---------------------------------------------------------------------------\u001b[0m",
      "\u001b[0;31mNameError\u001b[0m                                 Traceback (most recent call last)",
      "Cell \u001b[0;32mIn [5], line 2\u001b[0m\n\u001b[1;32m      1\u001b[0m \u001b[38;5;66;03m# Initialize the my_model\u001b[39;00m\n\u001b[0;32m----> 2\u001b[0m my_model \u001b[38;5;241m=\u001b[39m Model(name\u001b[38;5;241m=\u001b[39m\u001b[38;5;124m\"\u001b[39m\u001b[38;5;124mBlinky22\u001b[39m\u001b[38;5;124m\"\u001b[39m, sense\u001b[38;5;241m=\u001b[39m\u001b[38;5;124m'\u001b[39m\u001b[38;5;124mminimize\u001b[39m\u001b[38;5;124m'\u001b[39m)\n\u001b[1;32m      5\u001b[0m \u001b[38;5;66;03m# Add the Objective Fn\u001b[39;00m\n\u001b[1;32m      6\u001b[0m my_model\u001b[38;5;241m.\u001b[39madd_objective(\n\u001b[1;32m      7\u001b[0m     fn\u001b[38;5;241m=\u001b[39mModel\u001b[38;5;241m.\u001b[39msum([t[\u001b[38;5;124m'\u001b[39m\u001b[38;5;124mamt\u001b[39m\u001b[38;5;124m'\u001b[39m]\u001b[38;5;241m*\u001b[39mt[\u001b[38;5;124m'\u001b[39m\u001b[38;5;124mcost\u001b[39m\u001b[38;5;124m'\u001b[39m] \u001b[38;5;28;01mfor\u001b[39;00m t \u001b[38;5;129;01min\u001b[39;00m transport])\n\u001b[1;32m      8\u001b[0m )\n",
      "\u001b[0;31mNameError\u001b[0m: name 'Model' is not defined"
     ]
    }
   ],
   "source": [
    "# Initialize the my_model\n",
    "my_model = Model(name=\"Blinky22\", sense='minimize')\n",
    "\n",
    "\n",
    "# Add the Objective Fn\n",
    "my_model.add_objective(\n",
    "    fn=Model.sum([t['amt']*t['cost'] for t in transport])\n",
    ")\n",
    "\n",
    "# Add Constraints\n",
    "## Demand Constraint\n",
    "for d in demand:\n",
    "    my_model.add_constraint(\n",
    "        name=f\"{d['name']}__demand\",\n",
    "        fn=Model.sum([t['amt'] for t in transport if t['destination_name']==d['name']]) >= d['demand']\n",
    "    )\n",
    "\n",
    "## Supply Constraint\n",
    "for a in assembly:\n",
    "    my_model.add_constraint(\n",
    "        name=f\"{a['name']}__assembly_supply\",\n",
    "        fn=Model.sum([t['amt'] for t in transport if t['origin_name']==a['name']]) <= a['limit']\n",
    "    )\n",
    "\n",
    "## Conservation of Flow Constraint\n",
    "for dc in distribution_center:\n",
    "    my_model.add_constraint(\n",
    "        name=f\"{dc['name']}__conservation_of_flow\",\n",
    "        # Set inbound flows for the DC equal to outbound flows\n",
    "        fn=Model.sum(\n",
    "            [t['amt'] for t in transport if t['destination_name']==dc['name']]\n",
    "        ) == Model.sum(\n",
    "            [t['amt'] for t in transport if t['origin_name']==dc['name']]\n",
    "        )\n",
    "    )\n",
    "\n",
    "# Solve the my_model\n",
    "my_model.solve()"
   ]
  },
  {
   "cell_type": "code",
   "execution_count": 6,
   "metadata": {
    "execution": {
     "iopub.execute_input": "2022-11-08T16:09:47.844230Z",
     "iopub.status.busy": "2022-11-08T16:09:47.844120Z",
     "iopub.status.idle": "2022-11-08T16:09:47.852392Z",
     "shell.execute_reply": "2022-11-08T16:09:47.851937Z"
    }
   },
   "outputs": [
    {
     "ename": "NameError",
     "evalue": "name 'my_model' is not defined",
     "output_type": "error",
     "traceback": [
      "\u001b[0;31m---------------------------------------------------------------------------\u001b[0m",
      "\u001b[0;31mNameError\u001b[0m                                 Traceback (most recent call last)",
      "Cell \u001b[0;32mIn [6], line 1\u001b[0m\n\u001b[0;32m----> 1\u001b[0m my_model\u001b[38;5;241m.\u001b[39mshow_formulation()\n",
      "\u001b[0;31mNameError\u001b[0m: name 'my_model' is not defined"
     ]
    }
   ],
   "source": [
    "my_model.show_formulation()"
   ]
  },
  {
   "cell_type": "code",
   "execution_count": 7,
   "metadata": {
    "colab": {
     "base_uri": "https://localhost:8080/"
    },
    "execution": {
     "iopub.execute_input": "2022-11-08T16:09:47.854202Z",
     "iopub.status.busy": "2022-11-08T16:09:47.854093Z",
     "iopub.status.idle": "2022-11-08T16:09:47.862398Z",
     "shell.execute_reply": "2022-11-08T16:09:47.861932Z"
    },
    "executionInfo": {
     "elapsed": 5,
     "status": "ok",
     "timestamp": 1662047899209,
     "user": {
      "displayName": "connor makowski",
      "userId": "10315975988672690851"
     },
     "user_tz": 240
    },
    "id": "a5F_36LGgOpA",
    "outputId": "7b35d2cf-ac9b-4cd5-ffdf-2012e4b67ca2"
   },
   "outputs": [
    {
     "ename": "NameError",
     "evalue": "name 'my_model' is not defined",
     "output_type": "error",
     "traceback": [
      "\u001b[0;31m---------------------------------------------------------------------------\u001b[0m",
      "\u001b[0;31mNameError\u001b[0m                                 Traceback (most recent call last)",
      "Cell \u001b[0;32mIn [7], line 2\u001b[0m\n\u001b[1;32m      1\u001b[0m \u001b[38;5;66;03m# Show the outputs\u001b[39;00m\n\u001b[0;32m----> 2\u001b[0m my_model\u001b[38;5;241m.\u001b[39mshow_outputs()\n",
      "\u001b[0;31mNameError\u001b[0m: name 'my_model' is not defined"
     ]
    }
   ],
   "source": [
    "# Show the outputs\n",
    "my_model.show_outputs()"
   ]
  }
 ],
 "metadata": {
  "colab": {
   "authorship_tag": "ABX9TyOOgATniNSkX+1XrzNgJSIs",
   "collapsed_sections": [],
   "provenance": []
  },
  "kernelspec": {
   "display_name": "Python 3 (ipykernel)",
   "language": "python",
   "name": "python3"
  },
  "language_info": {
   "codemirror_mode": {
    "name": "ipython",
    "version": 3
   },
   "file_extension": ".py",
   "mimetype": "text/x-python",
   "name": "python",
   "nbconvert_exporter": "python",
   "pygments_lexer": "ipython3",
   "version": "3.8.10"
  }
 },
 "nbformat": 4,
 "nbformat_minor": 1
}
