{
 "cells": [
  {
   "cell_type": "code",
   "execution_count": 1,
   "metadata": {
    "execution": {
     "iopub.execute_input": "2022-11-08T16:15:45.245159Z",
     "iopub.status.busy": "2022-11-08T16:15:45.244679Z",
     "iopub.status.idle": "2022-11-08T16:15:45.938702Z",
     "shell.execute_reply": "2022-11-08T16:15:45.937824Z"
    },
    "executionInfo": {
     "elapsed": 21643,
     "status": "ok",
     "timestamp": 1662573274051,
     "user": {
      "displayName": "connor makowski",
      "userId": "10315975988672690851"
     },
     "user_tz": 240
    },
    "id": "dtAZbhYzc4Tl"
   },
   "outputs": [
    {
     "name": "stdout",
     "output_type": "stream",
     "text": [
      "Note: you may need to restart the kernel to use updated packages.\n"
     ]
    }
   ],
   "source": [
    "pip install scx>=1.0.7"
   ]
  },
  {
   "cell_type": "code",
   "execution_count": 2,
   "metadata": {
    "execution": {
     "iopub.execute_input": "2022-11-08T16:15:45.966772Z",
     "iopub.status.busy": "2022-11-08T16:15:45.966240Z",
     "iopub.status.idle": "2022-11-08T16:15:45.980520Z",
     "shell.execute_reply": "2022-11-08T16:15:45.979970Z"
    },
    "executionInfo": {
     "elapsed": 7,
     "status": "ok",
     "timestamp": 1662573274052,
     "user": {
      "displayName": "connor makowski",
      "userId": "10315975988672690851"
     },
     "user_tz": 240
    },
    "id": "SFdM7adidA5O"
   },
   "outputs": [],
   "source": [
    "from scx.optimize import Model"
   ]
  },
  {
   "cell_type": "code",
   "execution_count": 3,
   "metadata": {
    "execution": {
     "iopub.execute_input": "2022-11-08T16:15:45.982695Z",
     "iopub.status.busy": "2022-11-08T16:15:45.982563Z",
     "iopub.status.idle": "2022-11-08T16:15:45.987520Z",
     "shell.execute_reply": "2022-11-08T16:15:45.987065Z"
    },
    "executionInfo": {
     "elapsed": 6,
     "status": "ok",
     "timestamp": 1662573274052,
     "user": {
      "displayName": "connor makowski",
      "userId": "10315975988672690851"
     },
     "user_tz": 240
    },
    "id": "rqwrp08wdCdT"
   },
   "outputs": [],
   "source": [
    "transport = [\n",
    "    {\n",
    "        'origin_name':'A1',\n",
    "        'destination_name':'DC1',\n",
    "        'distance': 190,\n",
    "        'cost_per_mile':0.04,\n",
    "    },\n",
    "    {\n",
    "        'origin_name':'A2',\n",
    "        'destination_name':'DC1',\n",
    "        'distance': 150,\n",
    "        'cost_per_mile':0.04,\n",
    "    },\n",
    "    {\n",
    "        'origin_name':'DC1',\n",
    "        'destination_name':'R1',\n",
    "        'distance': 15,\n",
    "        'cost_per_mile':0.08,\n",
    "    },\n",
    "    {\n",
    "        'origin_name':'DC1',\n",
    "        'destination_name':'R2',\n",
    "        'distance': 59,\n",
    "        'cost_per_mile':0.08,\n",
    "    },\n",
    "    {\n",
    "        'origin_name':'DC1',\n",
    "        'destination_name':'R3',\n",
    "        'distance': 79,\n",
    "        'cost_per_mile':0.08,\n",
    "    },\n",
    "    {\n",
    "        'origin_name':'A1',\n",
    "        'destination_name':'DC2',\n",
    "        'distance': 15,\n",
    "        'cost_per_mile':0.04,\n",
    "    },\n",
    "    {\n",
    "        'origin_name':'A2',\n",
    "        'destination_name':'DC2',\n",
    "        'distance': 36,\n",
    "        'cost_per_mile':0.04,\n",
    "    },\n",
    "    {\n",
    "        'origin_name':'DC2',\n",
    "        'destination_name':'R1',\n",
    "        'distance': 135,\n",
    "        'cost_per_mile':0.08,\n",
    "    },\n",
    "    {\n",
    "        'origin_name':'DC2',\n",
    "        'destination_name':'R2',\n",
    "        'distance': 45,\n",
    "        'cost_per_mile':0.08,\n",
    "    },\n",
    "    {\n",
    "        'origin_name':'DC2',\n",
    "        'destination_name':'R3',\n",
    "        'distance': 129,\n",
    "        'cost_per_mile':0.08,\n",
    "    },\n",
    "]\n",
    "\n",
    "demand = [\n",
    "    {\n",
    "        'name':'R1', \n",
    "        'demand':2500\n",
    "    },\n",
    "    {\n",
    "        'name':'R2', \n",
    "        'demand':4350\n",
    "    },\n",
    "    {\n",
    "        'name':'R3', \n",
    "        'demand':3296\n",
    "    },\n",
    "]\n",
    "\n",
    "assembly = [\n",
    "    {\n",
    "        'name':'A1',\n",
    "        'limit':13000,\n",
    "    },\n",
    "    {\n",
    "        'name':'A2',\n",
    "        'limit':3500,\n",
    "    },\n",
    "]\n",
    "\n",
    "distribution_center = [\n",
    "    {\n",
    "        'name': 'DC1',\n",
    "        'fixed_cost': 11500,\n",
    "    },\n",
    "    {\n",
    "        'name': 'DC2',\n",
    "        'fixed_cost': 15500,\n",
    "    },\n",
    "]\n",
    "\n",
    "# Some number big enough...\n",
    "M = 999999"
   ]
  },
  {
   "cell_type": "code",
   "execution_count": 4,
   "metadata": {
    "execution": {
     "iopub.execute_input": "2022-11-08T16:15:45.990009Z",
     "iopub.status.busy": "2022-11-08T16:15:45.989880Z",
     "iopub.status.idle": "2022-11-08T16:15:45.992608Z",
     "shell.execute_reply": "2022-11-08T16:15:45.992204Z"
    },
    "executionInfo": {
     "elapsed": 2,
     "status": "ok",
     "timestamp": 1662573276616,
     "user": {
      "displayName": "connor makowski",
      "userId": "10315975988672690851"
     },
     "user_tz": 240
    },
    "id": "t2p2iCc5eaZH"
   },
   "outputs": [],
   "source": [
    "for t in transport:\n",
    "    # Create decision variables for each item in transport\n",
    "    t['amt']=Model.variable(name=f\"{t['origin_name']}__{t['destination_name']}__amt\", lowBound=0)\n",
    "    # Calculate the variable cost of shipping for each item in tranport\n",
    "    t['cost']=t['distance']*t['cost_per_mile']"
   ]
  },
  {
   "cell_type": "code",
   "execution_count": 5,
   "metadata": {
    "execution": {
     "iopub.execute_input": "2022-11-08T16:15:45.994077Z",
     "iopub.status.busy": "2022-11-08T16:15:45.993968Z",
     "iopub.status.idle": "2022-11-08T16:15:45.996418Z",
     "shell.execute_reply": "2022-11-08T16:15:45.996017Z"
    },
    "executionInfo": {
     "elapsed": 231,
     "status": "ok",
     "timestamp": 1662573469265,
     "user": {
      "displayName": "connor makowski",
      "userId": "10315975988672690851"
     },
     "user_tz": 240
    },
    "id": "5j54yTUppm6c"
   },
   "outputs": [],
   "source": [
    "for dc in distribution_center:\n",
    "    dc['use']=Model.variable(name=f\"{dc['name']}__use\", cat=\"Binary\")"
   ]
  },
  {
   "cell_type": "code",
   "execution_count": 6,
   "metadata": {
    "execution": {
     "iopub.execute_input": "2022-11-08T16:15:45.997823Z",
     "iopub.status.busy": "2022-11-08T16:15:45.997715Z",
     "iopub.status.idle": "2022-11-08T16:15:46.117864Z",
     "shell.execute_reply": "2022-11-08T16:15:46.117295Z"
    },
    "executionInfo": {
     "elapsed": 277,
     "status": "ok",
     "timestamp": 1662573517282,
     "user": {
      "displayName": "connor makowski",
      "userId": "10315975988672690851"
     },
     "user_tz": 240
    },
    "id": "UyYaJ7YcetBD"
   },
   "outputs": [
    {
     "ename": "NameError",
     "evalue": "name 'MOdel' is not defined",
     "output_type": "error",
     "traceback": [
      "\u001b[0;31m---------------------------------------------------------------------------\u001b[0m",
      "\u001b[0;31mNameError\u001b[0m                                 Traceback (most recent call last)",
      "Cell \u001b[0;32mIn [6], line 46\u001b[0m\n\u001b[1;32m     41\u001b[0m \u001b[38;5;66;03m## Linking Constraint\u001b[39;00m\n\u001b[1;32m     42\u001b[0m \u001b[38;5;28;01mfor\u001b[39;00m dc \u001b[38;5;129;01min\u001b[39;00m distribution_center:\n\u001b[1;32m     43\u001b[0m     my_model\u001b[38;5;241m.\u001b[39madd_constraint(\n\u001b[1;32m     44\u001b[0m         name\u001b[38;5;241m=\u001b[39m\u001b[38;5;124mf\u001b[39m\u001b[38;5;124m\"\u001b[39m\u001b[38;5;132;01m{\u001b[39;00mdc[\u001b[38;5;124m'\u001b[39m\u001b[38;5;124mname\u001b[39m\u001b[38;5;124m'\u001b[39m]\u001b[38;5;132;01m}\u001b[39;00m\u001b[38;5;124m__linking_constraint\u001b[39m\u001b[38;5;124m\"\u001b[39m,\n\u001b[1;32m     45\u001b[0m         \u001b[38;5;66;03m# Only allow the flows into the DC to be greater than 0 if the dc use variable is toggled\u001b[39;00m\n\u001b[0;32m---> 46\u001b[0m         fn\u001b[38;5;241m=\u001b[39m\u001b[43mMOdel\u001b[49m\u001b[38;5;241m.\u001b[39msum(\n\u001b[1;32m     47\u001b[0m             [t[\u001b[38;5;124m'\u001b[39m\u001b[38;5;124mamt\u001b[39m\u001b[38;5;124m'\u001b[39m] \u001b[38;5;28;01mfor\u001b[39;00m t \u001b[38;5;129;01min\u001b[39;00m transport \u001b[38;5;28;01mif\u001b[39;00m t[\u001b[38;5;124m'\u001b[39m\u001b[38;5;124mdestination_name\u001b[39m\u001b[38;5;124m'\u001b[39m]\u001b[38;5;241m==\u001b[39mdc[\u001b[38;5;124m'\u001b[39m\u001b[38;5;124mname\u001b[39m\u001b[38;5;124m'\u001b[39m]]\n\u001b[1;32m     48\u001b[0m         ) \u001b[38;5;241m<\u001b[39m\u001b[38;5;241m=\u001b[39m M \u001b[38;5;241m*\u001b[39m dc[\u001b[38;5;124m'\u001b[39m\u001b[38;5;124muse\u001b[39m\u001b[38;5;124m'\u001b[39m]\n\u001b[1;32m     49\u001b[0m     )\n\u001b[1;32m     51\u001b[0m \u001b[38;5;66;03m# Solve the my_model\u001b[39;00m\n\u001b[1;32m     52\u001b[0m my_model\u001b[38;5;241m.\u001b[39msolve()\n",
      "\u001b[0;31mNameError\u001b[0m: name 'MOdel' is not defined"
     ]
    }
   ],
   "source": [
    "# Initialize the my_model\n",
    "my_model = Model(name=\"Blinky22\", sense='minimize')\n",
    "\n",
    "\n",
    "# Add the Objective Fn\n",
    "my_model.add_objective(\n",
    "    fn=(\n",
    "        Model.sum([t['amt']*t['cost'] for t in transport])\n",
    "        +\n",
    "        Model.sum([dc['use']*dc['fixed_cost'] for dc in distribution_center])\n",
    "    )\n",
    ")\n",
    "\n",
    "# Add Constraints\n",
    "## Demand Constraint\n",
    "for d in demand:\n",
    "    my_model.add_constraint(\n",
    "        name=f\"{d['name']}__demand\",\n",
    "        fn=Model.sum([t['amt'] for t in transport if t['destination_name']==d['name']]) >= d['demand']\n",
    "    )\n",
    "\n",
    "## Supply Constraint\n",
    "for a in assembly:\n",
    "    my_model.add_constraint(\n",
    "        name=f\"{a['name']}__assembly_supply\",\n",
    "        fn=Model.sum([t['amt'] for t in transport if t['origin_name']==a['name']]) <= a['limit']\n",
    "    )\n",
    "\n",
    "## Conservation of Flow Constraint\n",
    "for dc in distribution_center:\n",
    "    my_model.add_constraint(\n",
    "        name=f\"{dc['name']}__conservation_of_flow\",\n",
    "        # Set inbound flows for the DC equal to outbound flows\n",
    "        fn=Model.sum(\n",
    "            [t['amt'] for t in transport if t['destination_name']==dc['name']]\n",
    "        ) == Model.sum(\n",
    "            [t['amt'] for t in transport if t['origin_name']==dc['name']]\n",
    "        )\n",
    "    )\n",
    "\n",
    "## Linking Constraint\n",
    "for dc in distribution_center:\n",
    "    my_model.add_constraint(\n",
    "        name=f\"{dc['name']}__linking_constraint\",\n",
    "        # Only allow the flows into the DC to be greater than 0 if the dc use variable is toggled\n",
    "        fn=MOdel.sum(\n",
    "            [t['amt'] for t in transport if t['destination_name']==dc['name']]\n",
    "        ) <= M * dc['use']\n",
    "    )\n",
    "\n",
    "# Solve the my_model\n",
    "my_model.solve()"
   ]
  },
  {
   "cell_type": "code",
   "execution_count": 7,
   "metadata": {
    "execution": {
     "iopub.execute_input": "2022-11-08T16:15:46.120221Z",
     "iopub.status.busy": "2022-11-08T16:15:46.120009Z",
     "iopub.status.idle": "2022-11-08T16:15:46.123119Z",
     "shell.execute_reply": "2022-11-08T16:15:46.122636Z"
    }
   },
   "outputs": [
    {
     "name": "stdout",
     "output_type": "stream",
     "text": [
      "Blinky22:\n",
      "MINIMIZE\n",
      "7.6000000000000005*A1__DC1__amt + 0.6*A1__DC2__amt + 6.0*A2__DC1__amt + 1.44*A2__DC2__amt + 1.2*DC1__R1__amt + 4.72*DC1__R2__amt + 6.32*DC1__R3__amt + 11500*DC1__use + 10.8*DC2__R1__amt + 3.6*DC2__R2__amt + 10.32*DC2__R3__amt + 15500*DC2__use + 0.0\n",
      "SUBJECT TO\n",
      "R1__demand: DC1__R1__amt + DC2__R1__amt >= 2500\n",
      "\n",
      "R2__demand: DC1__R2__amt + DC2__R2__amt >= 4350\n",
      "\n",
      "R3__demand: DC1__R3__amt + DC2__R3__amt >= 3296\n",
      "\n",
      "A1__assembly_supply: A1__DC1__amt + A1__DC2__amt <= 13000\n",
      "\n",
      "A2__assembly_supply: A2__DC1__amt + A2__DC2__amt <= 3500\n",
      "\n",
      "DC1__conservation_of_flow: A1__DC1__amt + A2__DC1__amt - DC1__R1__amt\n",
      " - DC1__R2__amt - DC1__R3__amt = 0\n",
      "\n",
      "DC2__conservation_of_flow: A1__DC2__amt + A2__DC2__amt - DC2__R1__amt\n",
      " - DC2__R2__amt - DC2__R3__amt = 0\n",
      "\n",
      "VARIABLES\n",
      "A1__DC1__amt Continuous\n",
      "A1__DC2__amt Continuous\n",
      "A2__DC1__amt Continuous\n",
      "A2__DC2__amt Continuous\n",
      "DC1__R1__amt Continuous\n",
      "DC1__R2__amt Continuous\n",
      "DC1__R3__amt Continuous\n",
      "0 <= DC1__use <= 1 Integer\n",
      "DC2__R1__amt Continuous\n",
      "DC2__R2__amt Continuous\n",
      "DC2__R3__amt Continuous\n",
      "0 <= DC2__use <= 1 Integer\n",
      "\n"
     ]
    }
   ],
   "source": [
    "my_model.show_formulation()"
   ]
  },
  {
   "cell_type": "code",
   "execution_count": 8,
   "metadata": {
    "colab": {
     "base_uri": "https://localhost:8080/"
    },
    "execution": {
     "iopub.execute_input": "2022-11-08T16:15:46.125008Z",
     "iopub.status.busy": "2022-11-08T16:15:46.124896Z",
     "iopub.status.idle": "2022-11-08T16:15:46.150444Z",
     "shell.execute_reply": "2022-11-08T16:15:46.149882Z"
    },
    "executionInfo": {
     "elapsed": 8,
     "status": "ok",
     "timestamp": 1662047967857,
     "user": {
      "displayName": "connor makowski",
      "userId": "10315975988672690851"
     },
     "user_tz": 240
    },
    "id": "a5F_36LGgOpA",
    "outputId": "023c7225-eddb-4a7e-8a32-980823ee5235"
   },
   "outputs": [
    {
     "ename": "Exception",
     "evalue": "(`type.get_outputs`): The current model must be solved before getting outputs.",
     "output_type": "error",
     "traceback": [
      "\u001b[0;31m---------------------------------------------------------------------------\u001b[0m",
      "\u001b[0;31mException\u001b[0m                                 Traceback (most recent call last)",
      "Cell \u001b[0;32mIn [8], line 2\u001b[0m\n\u001b[1;32m      1\u001b[0m \u001b[38;5;66;03m# Show the outputs\u001b[39;00m\n\u001b[0;32m----> 2\u001b[0m \u001b[43mmy_model\u001b[49m\u001b[38;5;241;43m.\u001b[39;49m\u001b[43mshow_outputs\u001b[49m\u001b[43m(\u001b[49m\u001b[43m)\u001b[49m\n",
      "File \u001b[0;32m~/development/mm/python_for_scx/venv/lib/python3.10/site-packages/scx/optimize.py:314\u001b[0m, in \u001b[0;36mModel.show_outputs\u001b[0;34m(self, pretty)\u001b[0m\n\u001b[1;32m    303\u001b[0m \u001b[38;5;28;01mdef\u001b[39;00m \u001b[38;5;21mshow_outputs\u001b[39m(\u001b[38;5;28mself\u001b[39m, pretty\u001b[38;5;241m=\u001b[39m\u001b[38;5;28;01mTrue\u001b[39;00m):\n\u001b[1;32m    304\u001b[0m     \u001b[38;5;124;03m\"\"\"\u001b[39;00m\n\u001b[1;32m    305\u001b[0m \u001b[38;5;124;03m    Shows a solved model's outputs in the terminal (from self.get_outputs())\u001b[39;00m\n\u001b[1;32m    306\u001b[0m \n\u001b[0;32m   (...)\u001b[0m\n\u001b[1;32m    312\u001b[0m \u001b[38;5;124;03m            - Default: True\u001b[39;00m\n\u001b[1;32m    313\u001b[0m \u001b[38;5;124;03m    \"\"\"\u001b[39;00m\n\u001b[0;32m--> 314\u001b[0m     outputs \u001b[38;5;241m=\u001b[39m \u001b[38;5;28;43mself\u001b[39;49m\u001b[38;5;241;43m.\u001b[39;49m\u001b[43mget_outputs\u001b[49m\u001b[43m(\u001b[49m\u001b[43m)\u001b[49m\n\u001b[1;32m    315\u001b[0m     \u001b[38;5;28;01mif\u001b[39;00m pretty:\n\u001b[1;32m    316\u001b[0m         pprint(outputs)\n",
      "File \u001b[0;32m~/development/mm/python_for_scx/venv/lib/python3.10/site-packages/scx/optimize.py:298\u001b[0m, in \u001b[0;36mModel.get_outputs\u001b[0;34m(self)\u001b[0m\n\u001b[1;32m    292\u001b[0m \u001b[38;5;124;03m\"\"\"\u001b[39;00m\n\u001b[1;32m    293\u001b[0m \u001b[38;5;124;03mReturns a solved model's outputs.\u001b[39;00m\n\u001b[1;32m    294\u001b[0m \n\u001b[1;32m    295\u001b[0m \u001b[38;5;124;03mNote: A model must be solved before getting these outputs\u001b[39;00m\n\u001b[1;32m    296\u001b[0m \u001b[38;5;124;03m\"\"\"\u001b[39;00m\n\u001b[1;32m    297\u001b[0m \u001b[38;5;28;01mif\u001b[39;00m \u001b[38;5;129;01mnot\u001b[39;00m \u001b[38;5;28mself\u001b[39m\u001b[38;5;241m.\u001b[39m__solved__:\n\u001b[0;32m--> 298\u001b[0m     \u001b[38;5;28;43mself\u001b[39;49m\u001b[38;5;241;43m.\u001b[39;49m\u001b[43mexception\u001b[49m\u001b[43m(\u001b[49m\n\u001b[1;32m    299\u001b[0m \u001b[43m        \u001b[49m\u001b[38;5;124;43m\"\u001b[39;49m\u001b[38;5;124;43mThe current model must be solved before getting outputs.\u001b[39;49m\u001b[38;5;124;43m\"\u001b[39;49m\n\u001b[1;32m    300\u001b[0m \u001b[43m    \u001b[49m\u001b[43m)\u001b[49m\n\u001b[1;32m    301\u001b[0m \u001b[38;5;28;01mreturn\u001b[39;00m \u001b[38;5;28mself\u001b[39m\u001b[38;5;241m.\u001b[39moutputs\n",
      "File \u001b[0;32m~/development/mm/python_for_scx/venv/lib/python3.10/site-packages/scx/utils.py:51\u001b[0m, in \u001b[0;36mError.exception\u001b[0;34m(self, message, depth)\u001b[0m\n\u001b[1;32m     30\u001b[0m \u001b[38;5;129m@classmethod\u001b[39m\n\u001b[1;32m     31\u001b[0m \u001b[38;5;28;01mdef\u001b[39;00m \u001b[38;5;21mexception\u001b[39m(\u001b[38;5;28mself\u001b[39m, message, depth\u001b[38;5;241m=\u001b[39m\u001b[38;5;241m0\u001b[39m):\n\u001b[1;32m     32\u001b[0m     \u001b[38;5;124;03m\"\"\"\u001b[39;00m\n\u001b[1;32m     33\u001b[0m \u001b[38;5;124;03m    Usage:\u001b[39;00m\n\u001b[1;32m     34\u001b[0m \n\u001b[0;32m   (...)\u001b[0m\n\u001b[1;32m     49\u001b[0m \u001b[38;5;124;03m        - Default: 0\u001b[39;00m\n\u001b[1;32m     50\u001b[0m \u001b[38;5;124;03m    \"\"\"\u001b[39;00m\n\u001b[0;32m---> 51\u001b[0m     \u001b[38;5;28;01mraise\u001b[39;00m \u001b[38;5;167;01mException\u001b[39;00m(\n\u001b[1;32m     52\u001b[0m         \u001b[38;5;124mf\u001b[39m\u001b[38;5;124m\"\u001b[39m\u001b[38;5;124m(`\u001b[39m\u001b[38;5;132;01m{\u001b[39;00m\u001b[38;5;28mself\u001b[39m\u001b[38;5;241m.\u001b[39m\u001b[38;5;18m__class__\u001b[39m\u001b[38;5;241m.\u001b[39m\u001b[38;5;18m__name__\u001b[39m\u001b[38;5;132;01m}\u001b[39;00m\u001b[38;5;124m.\u001b[39m\u001b[38;5;132;01m{\u001b[39;00msys\u001b[38;5;241m.\u001b[39m_getframe(depth)\u001b[38;5;241m.\u001b[39mf_back\u001b[38;5;241m.\u001b[39mf_code\u001b[38;5;241m.\u001b[39mco_name\u001b[38;5;132;01m}\u001b[39;00m\u001b[38;5;124m`): \u001b[39m\u001b[38;5;132;01m{\u001b[39;00mmessage\u001b[38;5;132;01m}\u001b[39;00m\u001b[38;5;124m\"\u001b[39m\n\u001b[1;32m     53\u001b[0m     )\n",
      "\u001b[0;31mException\u001b[0m: (`type.get_outputs`): The current model must be solved before getting outputs."
     ]
    }
   ],
   "source": [
    "# Show the outputs\n",
    "my_model.show_outputs()"
   ]
  }
 ],
 "metadata": {
  "colab": {
   "authorship_tag": "ABX9TyNsNnIlsbXklPd6A3rSN9yN",
   "collapsed_sections": [],
   "provenance": []
  },
  "kernelspec": {
   "display_name": "Python 3 (ipykernel)",
   "language": "python",
   "name": "python3"
  },
  "language_info": {
   "codemirror_mode": {
    "name": "ipython",
    "version": 3
   },
   "file_extension": ".py",
   "mimetype": "text/x-python",
   "name": "python",
   "nbconvert_exporter": "python",
   "pygments_lexer": "ipython3",
   "version": "3.10.8"
  }
 },
 "nbformat": 4,
 "nbformat_minor": 1
}
