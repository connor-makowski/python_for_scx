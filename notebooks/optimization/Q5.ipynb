{
 "cells": [
  {
   "cell_type": "code",
   "execution_count": 1,
   "metadata": {
    "execution": {
     "iopub.execute_input": "2022-09-29T18:59:15.946280Z",
     "iopub.status.busy": "2022-09-29T18:59:15.945770Z",
     "iopub.status.idle": "2022-09-29T18:59:16.572835Z",
     "shell.execute_reply": "2022-09-29T18:59:16.572004Z"
    },
    "executionInfo": {
     "elapsed": 21643,
     "status": "ok",
     "timestamp": 1662573274051,
     "user": {
      "displayName": "connor makowski",
      "userId": "10315975988672690851"
     },
     "user_tz": 240
    },
    "id": "dtAZbhYzc4Tl"
   },
   "outputs": [
    {
     "name": "stdout",
     "output_type": "stream",
     "text": [
      "Note: you may need to restart the kernel to use updated packages.\n"
     ]
    }
   ],
   "source": [
    "pip install scx>=1.0.7"
   ]
  },
  {
   "cell_type": "code",
   "execution_count": 2,
   "metadata": {
    "execution": {
     "iopub.execute_input": "2022-09-29T18:59:16.600381Z",
     "iopub.status.busy": "2022-09-29T18:59:16.600198Z",
     "iopub.status.idle": "2022-09-29T18:59:16.613694Z",
     "shell.execute_reply": "2022-09-29T18:59:16.613167Z"
    },
    "executionInfo": {
     "elapsed": 7,
     "status": "ok",
     "timestamp": 1662573274052,
     "user": {
      "displayName": "connor makowski",
      "userId": "10315975988672690851"
     },
     "user_tz": 240
    },
    "id": "SFdM7adidA5O"
   },
   "outputs": [],
   "source": [
    "from scx.optimize import Model"
   ]
  },
  {
   "cell_type": "code",
   "execution_count": 3,
   "metadata": {
    "execution": {
     "iopub.execute_input": "2022-09-29T18:59:16.616176Z",
     "iopub.status.busy": "2022-09-29T18:59:16.615751Z",
     "iopub.status.idle": "2022-09-29T18:59:16.620532Z",
     "shell.execute_reply": "2022-09-29T18:59:16.620026Z"
    },
    "executionInfo": {
     "elapsed": 6,
     "status": "ok",
     "timestamp": 1662573274052,
     "user": {
      "displayName": "connor makowski",
      "userId": "10315975988672690851"
     },
     "user_tz": 240
    },
    "id": "rqwrp08wdCdT"
   },
   "outputs": [],
   "source": [
    "transport = [\n",
    "    {\n",
    "        'origin_name':'A1',\n",
    "        'destination_name':'DC1',\n",
    "        'distance': 190,\n",
    "        'cost_per_mile':0.04,\n",
    "    },\n",
    "    {\n",
    "        'origin_name':'A2',\n",
    "        'destination_name':'DC1',\n",
    "        'distance': 150,\n",
    "        'cost_per_mile':0.04,\n",
    "    },\n",
    "    {\n",
    "        'origin_name':'DC1',\n",
    "        'destination_name':'R1',\n",
    "        'distance': 15,\n",
    "        'cost_per_mile':0.08,\n",
    "    },\n",
    "    {\n",
    "        'origin_name':'DC1',\n",
    "        'destination_name':'R2',\n",
    "        'distance': 59,\n",
    "        'cost_per_mile':0.08,\n",
    "    },\n",
    "    {\n",
    "        'origin_name':'DC1',\n",
    "        'destination_name':'R3',\n",
    "        'distance': 79,\n",
    "        'cost_per_mile':0.08,\n",
    "    },\n",
    "    {\n",
    "        'origin_name':'A1',\n",
    "        'destination_name':'DC2',\n",
    "        'distance': 15,\n",
    "        'cost_per_mile':0.04,\n",
    "    },\n",
    "    {\n",
    "        'origin_name':'A2',\n",
    "        'destination_name':'DC2',\n",
    "        'distance': 36,\n",
    "        'cost_per_mile':0.04,\n",
    "    },\n",
    "    {\n",
    "        'origin_name':'DC2',\n",
    "        'destination_name':'R1',\n",
    "        'distance': 135,\n",
    "        'cost_per_mile':0.08,\n",
    "    },\n",
    "    {\n",
    "        'origin_name':'DC2',\n",
    "        'destination_name':'R2',\n",
    "        'distance': 45,\n",
    "        'cost_per_mile':0.08,\n",
    "    },\n",
    "    {\n",
    "        'origin_name':'DC2',\n",
    "        'destination_name':'R3',\n",
    "        'distance': 129,\n",
    "        'cost_per_mile':0.08,\n",
    "    },\n",
    "]\n",
    "\n",
    "demand = [\n",
    "    {\n",
    "        'name':'R1', \n",
    "        'demand':2500\n",
    "    },\n",
    "    {\n",
    "        'name':'R2', \n",
    "        'demand':4350\n",
    "    },\n",
    "    {\n",
    "        'name':'R3', \n",
    "        'demand':3296\n",
    "    },\n",
    "]\n",
    "\n",
    "assembly = [\n",
    "    {\n",
    "        'name':'A1',\n",
    "        'limit':13000,\n",
    "    },\n",
    "    {\n",
    "        'name':'A2',\n",
    "        'limit':3500,\n",
    "    },\n",
    "]\n",
    "\n",
    "distribution_center = [\n",
    "    {\n",
    "        'name': 'DC1',\n",
    "        'fixed_cost': 11500,\n",
    "    },\n",
    "    {\n",
    "        'name': 'DC2',\n",
    "        'fixed_cost': 15500,\n",
    "    },\n",
    "]\n",
    "\n",
    "# Some number big enough...\n",
    "M = 999999"
   ]
  },
  {
   "cell_type": "code",
   "execution_count": 4,
   "metadata": {
    "execution": {
     "iopub.execute_input": "2022-09-29T18:59:16.622699Z",
     "iopub.status.busy": "2022-09-29T18:59:16.622567Z",
     "iopub.status.idle": "2022-09-29T18:59:16.625379Z",
     "shell.execute_reply": "2022-09-29T18:59:16.624936Z"
    },
    "executionInfo": {
     "elapsed": 2,
     "status": "ok",
     "timestamp": 1662573276616,
     "user": {
      "displayName": "connor makowski",
      "userId": "10315975988672690851"
     },
     "user_tz": 240
    },
    "id": "t2p2iCc5eaZH"
   },
   "outputs": [],
   "source": [
    "for t in transport:\n",
    "    # Create decision variables for each item in transport\n",
    "    t['amt']=Model.variable(name=f\"{t['origin_name']}__{t['destination_name']}__amt\", lowBound=0)\n",
    "    # Calculate the variable cost of shipping for each item in tranport\n",
    "    t['cost']=t['distance']*t['cost_per_mile']"
   ]
  },
  {
   "cell_type": "code",
   "execution_count": 5,
   "metadata": {
    "execution": {
     "iopub.execute_input": "2022-09-29T18:59:16.627331Z",
     "iopub.status.busy": "2022-09-29T18:59:16.627078Z",
     "iopub.status.idle": "2022-09-29T18:59:16.629770Z",
     "shell.execute_reply": "2022-09-29T18:59:16.629256Z"
    },
    "executionInfo": {
     "elapsed": 231,
     "status": "ok",
     "timestamp": 1662573469265,
     "user": {
      "displayName": "connor makowski",
      "userId": "10315975988672690851"
     },
     "user_tz": 240
    },
    "id": "5j54yTUppm6c"
   },
   "outputs": [],
   "source": [
    "for dc in distribution_center:\n",
    "    dc['use']=Model.variable(name=f\"{dc['name']}__use\", cat=\"Binary\")"
   ]
  },
  {
   "cell_type": "code",
   "execution_count": 6,
   "metadata": {
    "execution": {
     "iopub.execute_input": "2022-09-29T18:59:16.632039Z",
     "iopub.status.busy": "2022-09-29T18:59:16.631690Z",
     "iopub.status.idle": "2022-09-29T18:59:16.654032Z",
     "shell.execute_reply": "2022-09-29T18:59:16.653386Z"
    },
    "executionInfo": {
     "elapsed": 277,
     "status": "ok",
     "timestamp": 1662573517282,
     "user": {
      "displayName": "connor makowski",
      "userId": "10315975988672690851"
     },
     "user_tz": 240
    },
    "id": "UyYaJ7YcetBD"
   },
   "outputs": [],
   "source": [
    "# Initialize the my_model\n",
    "my_model = Model(name=\"Blinky22\", sense='minimize')\n",
    "\n",
    "\n",
    "# Add the Objective Fn\n",
    "my_model.add_objective(\n",
    "    fn=(\n",
    "        Model.sum([t['amt']*t['cost'] for t in transport])\n",
    "        +\n",
    "        Model.sum([dc['use']*dc['fixed_cost'] for dc in distribution_center])\n",
    "    )\n",
    ")\n",
    "\n",
    "# Add Constraints\n",
    "## Demand Constraint\n",
    "for d in demand:\n",
    "    my_model.add_constraint(\n",
    "        name=f\"{d['name']}__demand\",\n",
    "        fn=my_model.sum([t['amt'] for t in transport if t['destination_name']==d['name']]) >= d['demand']\n",
    "    )\n",
    "\n",
    "## Supply Constraint\n",
    "for a in assembly:\n",
    "    my_model.add_constraint(\n",
    "        name=f\"{a['name']}__assembly_supply\",\n",
    "        fn=my_model.sum([t['amt'] for t in transport if t['origin_name']==a['name']]) <= a['limit']\n",
    "    )\n",
    "\n",
    "## Conservation of Flow Constraint\n",
    "for dc in distribution_center:\n",
    "    my_model.add_constraint(\n",
    "        name=f\"{dc['name']}__conservation_of_flow\",\n",
    "        # Set inbound flows for the DC equal to outbound flows\n",
    "        fn=my_model.sum(\n",
    "            [t['amt'] for t in transport if t['destination_name']==dc['name']]\n",
    "        ) == my_model.sum(\n",
    "            [t['amt'] for t in transport if t['origin_name']==dc['name']]\n",
    "        )\n",
    "    )\n",
    "\n",
    "## Linking Constraint\n",
    "for dc in distribution_center:\n",
    "    my_model.add_constraint(\n",
    "        name=f\"{dc['name']}__linking_constraint\",\n",
    "        # Set inbound flows for the DC equal to outbound flows\n",
    "        fn=my_model.sum(\n",
    "            [t['amt'] for t in transport if t['destination_name']==dc['name']]\n",
    "        ) <= M * dc['use']\n",
    "    )\n",
    "\n",
    "# Solve the my_model\n",
    "my_model.solve()"
   ]
  },
  {
   "cell_type": "code",
   "execution_count": 7,
   "metadata": {
    "execution": {
     "iopub.execute_input": "2022-09-29T18:59:16.656303Z",
     "iopub.status.busy": "2022-09-29T18:59:16.656101Z",
     "iopub.status.idle": "2022-09-29T18:59:16.659725Z",
     "shell.execute_reply": "2022-09-29T18:59:16.659139Z"
    }
   },
   "outputs": [
    {
     "name": "stdout",
     "output_type": "stream",
     "text": [
      "Blinky22:\n",
      "MINIMIZE\n",
      "7.6000000000000005*A1__DC1__amt + 0.6*A1__DC2__amt + 6.0*A2__DC1__amt + 1.44*A2__DC2__amt + 1.2*DC1__R1__amt + 4.72*DC1__R2__amt + 6.32*DC1__R3__amt + 11500*DC1__use + 10.8*DC2__R1__amt + 3.6*DC2__R2__amt + 10.32*DC2__R3__amt + 15500*DC2__use + 0.0\n",
      "SUBJECT TO\n",
      "R1__demand: DC1__R1__amt + DC2__R1__amt >= 2500\n",
      "\n",
      "R2__demand: DC1__R2__amt + DC2__R2__amt >= 4350\n",
      "\n",
      "R3__demand: DC1__R3__amt + DC2__R3__amt >= 3296\n",
      "\n",
      "A1__assembly_supply: A1__DC1__amt + A1__DC2__amt <= 13000\n",
      "\n",
      "A2__assembly_supply: A2__DC1__amt + A2__DC2__amt <= 3500\n",
      "\n",
      "DC1__conservation_of_flow: A1__DC1__amt + A2__DC1__amt - DC1__R1__amt\n",
      " - DC1__R2__amt - DC1__R3__amt = 0\n",
      "\n",
      "DC2__conservation_of_flow: A1__DC2__amt + A2__DC2__amt - DC2__R1__amt\n",
      " - DC2__R2__amt - DC2__R3__amt = 0\n",
      "\n",
      "DC1__linking_constraint: A1__DC1__amt + A2__DC1__amt - 999999 DC1__use <= 0\n",
      "\n",
      "DC2__linking_constraint: A1__DC2__amt + A2__DC2__amt - 999999 DC2__use <= 0\n",
      "\n",
      "VARIABLES\n",
      "A1__DC1__amt Continuous\n",
      "A1__DC2__amt Continuous\n",
      "A2__DC1__amt Continuous\n",
      "A2__DC2__amt Continuous\n",
      "DC1__R1__amt Continuous\n",
      "DC1__R2__amt Continuous\n",
      "DC1__R3__amt Continuous\n",
      "0 <= DC1__use <= 1 Integer\n",
      "DC2__R1__amt Continuous\n",
      "DC2__R2__amt Continuous\n",
      "DC2__R3__amt Continuous\n",
      "0 <= DC2__use <= 1 Integer\n",
      "\n"
     ]
    }
   ],
   "source": [
    "my_model.show_formulation()"
   ]
  },
  {
   "cell_type": "code",
   "execution_count": 8,
   "metadata": {
    "colab": {
     "base_uri": "https://localhost:8080/"
    },
    "execution": {
     "iopub.execute_input": "2022-09-29T18:59:16.662297Z",
     "iopub.status.busy": "2022-09-29T18:59:16.661948Z",
     "iopub.status.idle": "2022-09-29T18:59:16.665006Z",
     "shell.execute_reply": "2022-09-29T18:59:16.664525Z"
    },
    "executionInfo": {
     "elapsed": 8,
     "status": "ok",
     "timestamp": 1662047967857,
     "user": {
      "displayName": "connor makowski",
      "userId": "10315975988672690851"
     },
     "user_tz": 240
    },
    "id": "a5F_36LGgOpA",
    "outputId": "023c7225-eddb-4a7e-8a32-980823ee5235"
   },
   "outputs": [
    {
     "name": "stdout",
     "output_type": "stream",
     "text": [
      "{'objective': 98262.32,\n",
      " 'status': 'Optimal',\n",
      " 'variables': {'A1__DC1__amt': 0.0,\n",
      "               'A1__DC2__amt': 10146.0,\n",
      "               'A2__DC1__amt': 0.0,\n",
      "               'A2__DC2__amt': 0.0,\n",
      "               'DC1__R1__amt': 0.0,\n",
      "               'DC1__R2__amt': 0.0,\n",
      "               'DC1__R3__amt': 0.0,\n",
      "               'DC1__use': 0.0,\n",
      "               'DC2__R1__amt': 2500.0,\n",
      "               'DC2__R2__amt': 4350.0,\n",
      "               'DC2__R3__amt': 3296.0,\n",
      "               'DC2__use': 1.0}}\n"
     ]
    }
   ],
   "source": [
    "# Show the outputs\n",
    "my_model.show_outputs()"
   ]
  }
 ],
 "metadata": {
  "colab": {
   "authorship_tag": "ABX9TyNsNnIlsbXklPd6A3rSN9yN",
   "collapsed_sections": [],
   "provenance": []
  },
  "kernelspec": {
   "display_name": "Python 3 (ipykernel)",
   "language": "python",
   "name": "python3"
  },
  "language_info": {
   "codemirror_mode": {
    "name": "ipython",
    "version": 3
   },
   "file_extension": ".py",
   "mimetype": "text/x-python",
   "name": "python",
   "nbconvert_exporter": "python",
   "pygments_lexer": "ipython3",
   "version": "3.8.10"
  }
 },
 "nbformat": 4,
 "nbformat_minor": 1
}
