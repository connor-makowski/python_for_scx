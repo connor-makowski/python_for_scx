{
 "cells": [
  {
   "cell_type": "markdown",
   "metadata": {
    "id": "hG-n6SCFljkx"
   },
   "source": [
    "# Pip, Importing And Help"
   ]
  },
  {
   "cell_type": "markdown",
   "metadata": {
    "id": "Bksen9-JbRBn"
   },
   "source": [
    "## Pip\n",
    "\n",
    "Pip is the canonical Python package installer. It is used to easily install external packages. For full details on how to use `pip` see the [pip docs](https://pip.pypa.io/en/stable/)."
   ]
  },
  {
   "cell_type": "markdown",
   "metadata": {
    "id": "skP3CQ3qpoAB"
   },
   "source": [
    "In general, `pip` should be executed from a terminal on your machine to install packages. In the case of google colab, you can directly install packages using the same nomenclature.\n",
    "\n",
    "```\n",
    "pip install <package>\n",
    "```\n",
    "\n",
    "As an example, install the MIT SCx package from the MIT CTL."
   ]
  },
  {
   "cell_type": "code",
   "execution_count": 1,
   "metadata": {
    "colab": {
     "base_uri": "https://localhost:8080/"
    },
    "execution": {
     "iopub.execute_input": "2022-11-08T16:09:34.241950Z",
     "iopub.status.busy": "2022-11-08T16:09:34.241547Z",
     "iopub.status.idle": "2022-11-08T16:09:35.333484Z",
     "shell.execute_reply": "2022-11-08T16:09:35.332644Z"
    },
    "executionInfo": {
     "elapsed": 4217,
     "status": "ok",
     "timestamp": 1661425281046,
     "user": {
      "displayName": "connor makowski",
      "userId": "10315975988672690851"
     },
     "user_tz": 240
    },
    "id": "_BzHad80aYPr",
    "outputId": "3031a3ef-6b9a-47e3-cb0c-4912a7ede708"
   },
   "outputs": [
    {
     "name": "stdout",
     "output_type": "stream",
     "text": [
      "Requirement already satisfied: scx in /home/conmak/development/mm/python_for_scx/venv/lib/python3.8/site-packages (1.0.5)\r\n",
      "Requirement already satisfied: type-enforced==0.0.10 in /home/conmak/development/mm/python_for_scx/venv/lib/python3.8/site-packages (from scx) (0.0.10)\r\n",
      "Requirement already satisfied: PuLP==2.6.0 in /home/conmak/development/mm/python_for_scx/venv/lib/python3.8/site-packages (from scx) (2.6.0)\r\n",
      "\r\n",
      "\u001b[1m[\u001b[0m\u001b[34;49mnotice\u001b[0m\u001b[1;39;49m]\u001b[0m\u001b[39;49m A new release of pip available: \u001b[0m\u001b[31;49m22.2.2\u001b[0m\u001b[39;49m -> \u001b[0m\u001b[32;49m22.3.1\u001b[0m\r\n",
      "\u001b[1m[\u001b[0m\u001b[34;49mnotice\u001b[0m\u001b[1;39;49m]\u001b[0m\u001b[39;49m To update, run: \u001b[0m\u001b[32;49mpip install --upgrade pip\u001b[0m\r\n",
      "Note: you may need to restart the kernel to use updated packages.\n"
     ]
    }
   ],
   "source": [
    "pip install scx"
   ]
  },
  {
   "cell_type": "markdown",
   "metadata": {
    "id": "VWT9AktfcvDN"
   },
   "source": [
    "## Importing\n",
    "\n",
    "Once a package is installed, it can be imported by calling the `import` statement. See the [import docs](https://docs.python.org/3/reference/import.html) for more info."
   ]
  },
  {
   "cell_type": "code",
   "execution_count": 2,
   "metadata": {
    "execution": {
     "iopub.execute_input": "2022-11-08T16:09:35.336923Z",
     "iopub.status.busy": "2022-11-08T16:09:35.336476Z",
     "iopub.status.idle": "2022-11-08T16:09:35.346722Z",
     "shell.execute_reply": "2022-11-08T16:09:35.346276Z"
    },
    "id": "vMPmc9Vwacc2"
   },
   "outputs": [],
   "source": [
    "import scx"
   ]
  },
  {
   "cell_type": "markdown",
   "metadata": {
    "id": "dcNxRyRomWrK"
   },
   "source": [
    "In general, most packages have an expected way to import them. This may vary from package to package and indications on how this is done should be found in the package's official docs.\n",
    "\n",
    "The `scx` package has the following docs:\n",
    "- [Code Repo](https://github.com/connor-makowski/scx)\n",
    "- [Technical Docs](https://connor-makowski.github.io/scx/index.html)\n",
    "\n",
    "In this case, it looks like the scx package has multiple modules. These would need to be imported from the package.\n",
    "\n",
    "The nomenclature to import modules from a package is:\n",
    "```\n",
    "from <package> import <module>\n",
    "```\n",
    "\n",
    "Or even further down:\n",
    "\n",
    "```\n",
    "from <package>.<module> import <module, class or function>\n",
    "```\n",
    "\n",
    "In the `scx` example, importing the `optimize` module would give access to it."
   ]
  },
  {
   "cell_type": "code",
   "execution_count": 3,
   "metadata": {
    "execution": {
     "iopub.execute_input": "2022-11-08T16:09:35.349458Z",
     "iopub.status.busy": "2022-11-08T16:09:35.349249Z",
     "iopub.status.idle": "2022-11-08T16:09:35.746417Z",
     "shell.execute_reply": "2022-11-08T16:09:35.745837Z"
    },
    "id": "PWQQqtlsmeuH"
   },
   "outputs": [
    {
     "ename": "AttributeError",
     "evalue": "'staticmethod' object has no attribute '__annotations__'",
     "output_type": "error",
     "traceback": [
      "\u001b[0;31m---------------------------------------------------------------------------\u001b[0m",
      "\u001b[0;31mAttributeError\u001b[0m                            Traceback (most recent call last)",
      "Cell \u001b[0;32mIn [3], line 1\u001b[0m\n\u001b[0;32m----> 1\u001b[0m \u001b[38;5;28;01mfrom\u001b[39;00m \u001b[38;5;21;01mscx\u001b[39;00m \u001b[38;5;28;01mimport\u001b[39;00m optimize\n",
      "File \u001b[0;32m~/development/mm/python_for_scx/venv/lib/python3.8/site-packages/scx/optimize.py:7\u001b[0m\n\u001b[1;32m      2\u001b[0m \u001b[38;5;28;01mfrom\u001b[39;00m \u001b[38;5;21;01mpprint\u001b[39;00m \u001b[38;5;28;01mimport\u001b[39;00m pprint\n\u001b[1;32m      3\u001b[0m \u001b[38;5;28;01mfrom\u001b[39;00m \u001b[38;5;21;01m.\u001b[39;00m\u001b[38;5;21;01mutils\u001b[39;00m \u001b[38;5;28;01mimport\u001b[39;00m Error\n\u001b[1;32m      6\u001b[0m \u001b[38;5;129;43m@type_enforced\u001b[39;49m\u001b[38;5;241;43m.\u001b[39;49m\u001b[43mEnforcer\u001b[49m\n\u001b[0;32m----> 7\u001b[0m \u001b[38;5;28;43;01mclass\u001b[39;49;00m\u001b[43m \u001b[49m\u001b[38;5;21;43;01mModelUtils\u001b[39;49;00m\u001b[43m(\u001b[49m\u001b[43mError\u001b[49m\u001b[43m)\u001b[49m\u001b[43m:\u001b[49m\n\u001b[1;32m      8\u001b[0m \u001b[43m    \u001b[49m\u001b[38;5;129;43m@staticmethod\u001b[39;49m\n\u001b[1;32m      9\u001b[0m \u001b[43m    \u001b[49m\u001b[38;5;28;43;01mdef\u001b[39;49;00m\u001b[43m \u001b[49m\u001b[38;5;21;43mvariable\u001b[39;49m\u001b[43m(\u001b[49m\n\u001b[1;32m     10\u001b[0m \u001b[43m        \u001b[49m\u001b[43mname\u001b[49m\u001b[43m:\u001b[49m\u001b[43m \u001b[49m\u001b[38;5;28;43mstr\u001b[39;49m\u001b[43m,\u001b[49m\n\u001b[0;32m   (...)\u001b[0m\n\u001b[1;32m     13\u001b[0m \u001b[43m        \u001b[49m\u001b[43mcat\u001b[49m\u001b[43m:\u001b[49m\u001b[43m \u001b[49m\u001b[43m[\u001b[49m\u001b[38;5;28;43mstr\u001b[39;49m\u001b[43m,\u001b[49m\u001b[43m \u001b[49m\u001b[38;5;28;43;01mNone\u001b[39;49;00m\u001b[43m]\u001b[49m\u001b[43m \u001b[49m\u001b[38;5;241;43m=\u001b[39;49m\u001b[43m \u001b[49m\u001b[38;5;124;43m\"\u001b[39;49m\u001b[38;5;124;43mContinuous\u001b[39;49m\u001b[38;5;124;43m\"\u001b[39;49m\u001b[43m,\u001b[49m\n\u001b[1;32m     14\u001b[0m \u001b[43m    \u001b[49m\u001b[43m)\u001b[49m\u001b[43m:\u001b[49m\n\u001b[1;32m     15\u001b[0m \u001b[43m        \u001b[49m\u001b[38;5;124;43;03m\"\"\"\u001b[39;49;00m\n\u001b[1;32m     16\u001b[0m \u001b[38;5;124;43;03m        Creates a variable object to be used in an optimize.Model object\u001b[39;49;00m\n\u001b[1;32m     17\u001b[0m \n\u001b[0;32m   (...)\u001b[0m\n\u001b[1;32m     38\u001b[0m \u001b[38;5;124;43;03m            - Options: ['Continuous','Binary','Integer']\u001b[39;49;00m\n\u001b[1;32m     39\u001b[0m \u001b[38;5;124;43;03m        \"\"\"\u001b[39;49;00m\n",
      "File \u001b[0;32m~/development/mm/python_for_scx/venv/lib/python3.8/site-packages/type_enforced/enforcer.py:167\u001b[0m, in \u001b[0;36mEnforcer\u001b[0;34m(clsFnMethod)\u001b[0m\n\u001b[1;32m    165\u001b[0m \u001b[38;5;28;01mfor\u001b[39;00m key, value \u001b[38;5;129;01min\u001b[39;00m clsFnMethod\u001b[38;5;241m.\u001b[39m\u001b[38;5;18m__dict__\u001b[39m\u001b[38;5;241m.\u001b[39mitems():\n\u001b[1;32m    166\u001b[0m     \u001b[38;5;28;01mif\u001b[39;00m \u001b[38;5;28mhasattr\u001b[39m(value, \u001b[38;5;124m\"\u001b[39m\u001b[38;5;124m__call__\u001b[39m\u001b[38;5;124m\"\u001b[39m) \u001b[38;5;129;01mor\u001b[39;00m \u001b[38;5;28misinstance\u001b[39m(value, (\u001b[38;5;28mclassmethod\u001b[39m, \u001b[38;5;28mstaticmethod\u001b[39m)):\n\u001b[0;32m--> 167\u001b[0m         \u001b[38;5;28msetattr\u001b[39m(clsFnMethod, key, \u001b[43mEnforcer\u001b[49m\u001b[43m(\u001b[49m\u001b[43mvalue\u001b[49m\u001b[43m)\u001b[49m)\n\u001b[1;32m    168\u001b[0m \u001b[38;5;28;01mreturn\u001b[39;00m clsFnMethod\n",
      "File \u001b[0;32m~/development/mm/python_for_scx/venv/lib/python3.8/site-packages/type_enforced/enforcer.py:156\u001b[0m, in \u001b[0;36mEnforcer\u001b[0;34m(clsFnMethod)\u001b[0m\n\u001b[1;32m    116\u001b[0m \u001b[38;5;124;03m\"\"\"\u001b[39;00m\n\u001b[1;32m    117\u001b[0m \u001b[38;5;124;03mA wrapper to enforce types within a function or method given argument annotations.\u001b[39;00m\n\u001b[1;32m    118\u001b[0m \n\u001b[0;32m   (...)\u001b[0m\n\u001b[1;32m    152\u001b[0m \u001b[38;5;124;03m```\u001b[39;00m\n\u001b[1;32m    153\u001b[0m \u001b[38;5;124;03m\"\"\"\u001b[39;00m\n\u001b[1;32m    154\u001b[0m \u001b[38;5;28;01mif\u001b[39;00m \u001b[38;5;28misinstance\u001b[39m(clsFnMethod, (\u001b[38;5;28mstaticmethod\u001b[39m, \u001b[38;5;28mclassmethod\u001b[39m, types\u001b[38;5;241m.\u001b[39mFunctionType, types\u001b[38;5;241m.\u001b[39mMethodType)):\n\u001b[1;32m    155\u001b[0m     \u001b[38;5;66;03m# Only apply the enforcer if annotations are specified\u001b[39;00m\n\u001b[0;32m--> 156\u001b[0m     \u001b[38;5;28;01mif\u001b[39;00m \u001b[43mclsFnMethod\u001b[49m\u001b[38;5;241;43m.\u001b[39;49m\u001b[38;5;18;43m__annotations__\u001b[39;49m \u001b[38;5;241m==\u001b[39m {}:\n\u001b[1;32m    157\u001b[0m         \u001b[38;5;28;01mreturn\u001b[39;00m clsFnMethod\n\u001b[1;32m    158\u001b[0m     \u001b[38;5;28;01melif\u001b[39;00m \u001b[38;5;28misinstance\u001b[39m(clsFnMethod, \u001b[38;5;28mstaticmethod\u001b[39m):\n",
      "\u001b[0;31mAttributeError\u001b[0m: 'staticmethod' object has no attribute '__annotations__'"
     ]
    }
   ],
   "source": [
    "from scx import optimize"
   ]
  },
  {
   "cell_type": "markdown",
   "metadata": {
    "id": "AKLCiGz0c8Zz"
   },
   "source": [
    "## Help\n",
    "\n",
    "All packages come with built in features for viewing package contents and accessing documentation. This can be accessed with the `help` function."
   ]
  },
  {
   "cell_type": "code",
   "execution_count": 4,
   "metadata": {
    "colab": {
     "base_uri": "https://localhost:8080/"
    },
    "execution": {
     "iopub.execute_input": "2022-11-08T16:09:35.748684Z",
     "iopub.status.busy": "2022-11-08T16:09:35.748565Z",
     "iopub.status.idle": "2022-11-08T16:09:35.751964Z",
     "shell.execute_reply": "2022-11-08T16:09:35.751492Z"
    },
    "executionInfo": {
     "elapsed": 11,
     "status": "ok",
     "timestamp": 1661425281048,
     "user": {
      "displayName": "connor makowski",
      "userId": "10315975988672690851"
     },
     "user_tz": 240
    },
    "id": "cx18QzWaapTo",
    "outputId": "5883ebb8-24cf-46e8-df6b-fa3be7c4c898"
   },
   "outputs": [
    {
     "name": "stdout",
     "output_type": "stream",
     "text": [
      "Help on package scx:\n",
      "\n",
      "NAME\n",
      "    scx\n",
      "\n",
      "PACKAGE CONTENTS\n",
      "    optimize\n",
      "    statistics\n",
      "    utils\n",
      "\n",
      "FILE\n",
      "    /home/conmak/development/mm/python_for_scx/venv/lib/python3.8/site-packages/scx/__init__.py\n",
      "\n",
      "\n"
     ]
    }
   ],
   "source": [
    "help(scx)"
   ]
  },
  {
   "cell_type": "markdown",
   "metadata": {
    "id": "28l-SEc-dqOK"
   },
   "source": [
    "As you can see the root level help provides some idea of what contents are in the package.\n",
    "\n",
    "In Python, you can normally find something akin to the above 'Technical Docs for the scx package' by calling `help` on each module in the package.\n",
    "\n",
    "For example:"
   ]
  },
  {
   "cell_type": "code",
   "execution_count": 5,
   "metadata": {
    "colab": {
     "base_uri": "https://localhost:8080/"
    },
    "execution": {
     "iopub.execute_input": "2022-11-08T16:09:35.754269Z",
     "iopub.status.busy": "2022-11-08T16:09:35.753915Z",
     "iopub.status.idle": "2022-11-08T16:09:35.762464Z",
     "shell.execute_reply": "2022-11-08T16:09:35.762066Z"
    },
    "executionInfo": {
     "elapsed": 8,
     "status": "ok",
     "timestamp": 1661425281048,
     "user": {
      "displayName": "connor makowski",
      "userId": "10315975988672690851"
     },
     "user_tz": 240
    },
    "id": "MQpmX8Oqaxyc",
    "outputId": "43a9b90b-655a-4013-d67c-201ba8d90553"
   },
   "outputs": [
    {
     "ename": "AttributeError",
     "evalue": "module 'scx' has no attribute 'optimize'",
     "output_type": "error",
     "traceback": [
      "\u001b[0;31m---------------------------------------------------------------------------\u001b[0m",
      "\u001b[0;31mAttributeError\u001b[0m                            Traceback (most recent call last)",
      "Cell \u001b[0;32mIn [5], line 1\u001b[0m\n\u001b[0;32m----> 1\u001b[0m help(scx\u001b[38;5;241m.\u001b[39moptimize)\n",
      "\u001b[0;31mAttributeError\u001b[0m: module 'scx' has no attribute 'optimize'"
     ]
    }
   ],
   "source": [
    "help(scx.optimize)"
   ]
  },
  {
   "cell_type": "markdown",
   "metadata": {
    "id": "POdEZ1sjiV0A"
   },
   "source": [
    "Whoah, that is a lot of output...\n",
    "\n",
    "That's okay. At least you can get help to do what you need to do."
   ]
  }
 ],
 "metadata": {
  "colab": {
   "authorship_tag": "ABX9TyN44cOOIsw4xs5WDC6nO4TU",
   "collapsed_sections": [],
   "name": "08_Pip_Importing_And_Help.ipynb",
   "provenance": []
  },
  "kernelspec": {
   "display_name": "Python 3 (ipykernel)",
   "language": "python",
   "name": "python3"
  },
  "language_info": {
   "codemirror_mode": {
    "name": "ipython",
    "version": 3
   },
   "file_extension": ".py",
   "mimetype": "text/x-python",
   "name": "python",
   "nbconvert_exporter": "python",
   "pygments_lexer": "ipython3",
   "version": "3.8.10"
  }
 },
 "nbformat": 4,
 "nbformat_minor": 1
}
